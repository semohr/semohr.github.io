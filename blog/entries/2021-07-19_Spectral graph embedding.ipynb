{
 "cells": [
  {
   "cell_type": "markdown",
   "id": "188ae8fa",
   "metadata": {},
   "source": [
    "# Spectral graph embedding\n",
    "\n",
    "In the following I want to take a short look into how to perform laplacian spectral graph embedding. We will start with the mathematic basics on graphs. If you don't care about the math and just want to see the codeyou can jump right into the example. \n",
    "\n",
    "## Basics\n",
    "\n",
    "We want to consider a directed graph $G = (V,E)$ with in total $|V|=N$ vertexes. Edges are defined by an adjacency matrix $A$, with the matrix values $a_{i,j}>0$. In the most simple case the adjacency matrix only contains ones and zeros but you can also weight connections by increasing the corresponding matrix values.\n",
    "\n",
    "A usefull property for graphs is the degree matrix $D$ which contains information about the degree of each node. In our directed graph this corresponds to the incomming connections.\n",
    "$$\n",
    "D :=\n",
    "\\begin{cases}\n",
    "    deg(v_{i}) & \\text{if }  i=j\\\\ \n",
    "    0 & \\text{else}\n",
    "\\end{cases}\n",
    "$$\n",
    "\n",
    "Whereby the $deg(v_i)$ is the number of times a edge terminates at vertex $v_i$. In our directed graph that is the number of incomming connections.\n",
    "\n",
    "The Laplacian matrix is defined for directed graphs as\n",
    "\n",
    "\n",
    "$$\n",
    "L :=\n",
    "\\begin{cases}\n",
    "    deg(v_{i}) & \\text{if }  i=j\\\\ \n",
    "    -1 & \\text{if } i \\neq j \\text{ and } v_i \\text{ is adjacent to } v_j \\\\\n",
    "    0 & \\text{else}\n",
    "\\end{cases}\n",
    "$$\n",
    "\n",
    "\n",
    "In most cases one would use the symmetric normalized Laplacian matrix. It is normalized using the degree matrix.\n",
    "\n",
    "$$\n",
    "L_{\\text{sym}} = D^{-1/2}LD^{-1/2} = I- D^{-1/2}AD^{-1/2}\n",
    "$$\n",
    "\n",
    "\n",
    "## Main objective\n",
    "\n",
    "Given a directed graph we want to compute a low dimensions representation of this graph. Thus we want want to create a set of vectors $ X := \\{ x_1,...x_N\\} \\in \\!R^2$ such that the larger the values the values of the adjacency vectors the smaller the distance $||x_i-x_j||^2$ between the resulting vertcies. We consider the two dimensional case, but in theory the method should also work for a higher number of dimensions.\n",
    "\n",
    "$$\n",
    "\\text{min}_{X \\in \\!R^2} \\sum_{i,j}a_{i,j}||x_i-x_j||^2\\\\\n",
    "=\\text{min}_{X \\in \\!R^2} \\text{ trace}(XLX^T)\n",
    "$$\n",
    "\n",
    "Trivially this is solved by $X=0$ but we are not searching for this sigularity, we avoid this by introducting further constrains to our problem. All solution vectors should be orthorgonal and the set should be normalized:\n",
    "$$\n",
    "XX^T = I \\\\\n",
    "X\\cdot\\!1 = 0\n",
    "$$\n",
    "\n",
    "## Solution\n",
    "\n",
    "We can solve the above defined problem by the graph visualization spectral algorithm.\n",
    "\n",
    "- Compute Laplacian matrix $L$\n",
    "- Compute lowest three eigenpairs $(e_1,\\lambda_1),(e_2,\\lambda_2) ,(e_3,\\lambda_3)$ i.e. $Le_k=\\lambda_ke_k$\n",
    "- Construct the embedding $X$ using the eigenvectors $e_2,e_3$\n",
    "    $$\n",
    "    X=\\begin{bmatrix}e_2^T \\\\ e_3^T\\end{bmatrix}\n",
    "    $$\n",
    "\n",
    "I feel like deriving these formulas would be beyond the scope of this short blog entry. If you want to read up on the math I recommend this [book](http://www.cs.yale.edu/homes/spielman/PAPERS/SGTChapter.pdf) by Daniel Spielman. "
   ]
  },
  {
   "cell_type": "markdown",
   "id": "977db448",
   "metadata": {},
   "source": [
    "## Example\n",
    "\n",
    "Next let us code up an example using the proposed algorithm."
   ]
  },
  {
   "cell_type": "code",
   "execution_count": 10,
   "id": "3943e69a",
   "metadata": {},
   "outputs": [
    {
     "name": "stdout",
     "output_type": "stream",
     "text": [
      "A=array([[0., 1., 0., 0., 0., 0., 0., 0., 0., 0., 0., 0., 0., 1.],\n",
      "       [1., 0., 1., 0., 0., 0., 0., 0., 0., 0., 0., 0., 0., 0.],\n",
      "       [0., 1., 0., 1., 0., 0., 0., 0., 0., 0., 0., 0., 0., 0.],\n",
      "       [0., 0., 1., 0., 1., 0., 0., 0., 0., 0., 0., 0., 0., 0.],\n",
      "       [0., 0., 0., 1., 0., 1., 0., 0., 0., 0., 0., 0., 0., 0.],\n",
      "       [0., 0., 0., 0., 1., 0., 1., 0., 0., 0., 0., 0., 0., 0.],\n",
      "       [0., 0., 0., 0., 0., 1., 0., 1., 0., 0., 0., 0., 0., 0.],\n",
      "       [0., 0., 0., 0., 0., 0., 1., 0., 1., 0., 0., 0., 0., 0.],\n",
      "       [0., 0., 0., 0., 0., 0., 0., 1., 0., 1., 0., 0., 0., 0.],\n",
      "       [0., 0., 0., 0., 0., 0., 0., 0., 1., 0., 1., 0., 0., 0.],\n",
      "       [0., 0., 0., 0., 0., 0., 0., 0., 0., 1., 0., 1., 0., 0.],\n",
      "       [0., 0., 0., 0., 0., 0., 0., 0., 0., 0., 1., 0., 1., 0.],\n",
      "       [0., 0., 0., 0., 0., 0., 0., 0., 0., 0., 0., 1., 0., 1.],\n",
      "       [1., 0., 0., 0., 0., 0., 0., 0., 0., 0., 0., 0., 1., 0.]])\n"
     ]
    }
   ],
   "source": [
    "# Normally you would create this adjacency matrix from your data\n",
    "import numpy as np\n",
    "A = np.zeros((14,14))\n",
    "for i in range(13):\n",
    "    A[i,i+1] = 1\n",
    "    A[i+1,i] = 1\n",
    "A[13,0] = 1\n",
    "A[0,13] = 1\n",
    "print(f\"{A=}\")"
   ]
  },
  {
   "cell_type": "code",
   "execution_count": 31,
   "id": "60746d07",
   "metadata": {},
   "outputs": [
    {
     "name": "stdout",
     "output_type": "stream",
     "text": [
      "D=array([[2., 0., 0., 0., 0., 0., 0., 0., 0., 0., 0., 0., 0., 0.],\n",
      "       [0., 2., 0., 0., 0., 0., 0., 0., 0., 0., 0., 0., 0., 0.],\n",
      "       [0., 0., 2., 0., 0., 0., 0., 0., 0., 0., 0., 0., 0., 0.],\n",
      "       [0., 0., 0., 2., 0., 0., 0., 0., 0., 0., 0., 0., 0., 0.],\n",
      "       [0., 0., 0., 0., 2., 0., 0., 0., 0., 0., 0., 0., 0., 0.],\n",
      "       [0., 0., 0., 0., 0., 2., 0., 0., 0., 0., 0., 0., 0., 0.],\n",
      "       [0., 0., 0., 0., 0., 0., 2., 0., 0., 0., 0., 0., 0., 0.],\n",
      "       [0., 0., 0., 0., 0., 0., 0., 2., 0., 0., 0., 0., 0., 0.],\n",
      "       [0., 0., 0., 0., 0., 0., 0., 0., 2., 0., 0., 0., 0., 0.],\n",
      "       [0., 0., 0., 0., 0., 0., 0., 0., 0., 2., 0., 0., 0., 0.],\n",
      "       [0., 0., 0., 0., 0., 0., 0., 0., 0., 0., 2., 0., 0., 0.],\n",
      "       [0., 0., 0., 0., 0., 0., 0., 0., 0., 0., 0., 2., 0., 0.],\n",
      "       [0., 0., 0., 0., 0., 0., 0., 0., 0., 0., 0., 0., 2., 0.],\n",
      "       [0., 0., 0., 0., 0., 0., 0., 0., 0., 0., 0., 0., 0., 2.]])\n"
     ]
    }
   ],
   "source": [
    "# Compute the degree\n",
    "deg = np.sum(A, axis=1)\n",
    "D = np.diag(deg)\n",
    "print(f\"{D=}\")"
   ]
  },
  {
   "cell_type": "code",
   "execution_count": 56,
   "id": "2d0de5ab",
   "metadata": {},
   "outputs": [
    {
     "name": "stdout",
     "output_type": "stream",
     "text": [
      "L=array([[ 2. -1.  0.  0.  0.  0.  0.  0.  0.  0.  0.  0.  0. -1.]\n",
      " [-1.  2. -1.  0.  0.  0.  0.  0.  0.  0.  0.  0.  0.  0.]\n",
      " [ 0. -1.  2. -1.  0.  0.  0.  0.  0.  0.  0.  0.  0.  0.]\n",
      " [ 0.  0. -1.  2. -1.  0.  0.  0.  0.  0.  0.  0.  0.  0.]\n",
      " [ 0.  0.  0. -1.  2. -1.  0.  0.  0.  0.  0.  0.  0.  0.]\n",
      " [ 0.  0.  0.  0. -1.  2. -1.  0.  0.  0.  0.  0.  0.  0.]\n",
      " [ 0.  0.  0.  0.  0. -1.  2. -1.  0.  0.  0.  0.  0.  0.]\n",
      " [ 0.  0.  0.  0.  0.  0. -1.  2. -1.  0.  0.  0.  0.  0.]\n",
      " [ 0.  0.  0.  0.  0.  0.  0. -1.  2. -1.  0.  0.  0.  0.]\n",
      " [ 0.  0.  0.  0.  0.  0.  0.  0. -1.  2. -1.  0.  0.  0.]\n",
      " [ 0.  0.  0.  0.  0.  0.  0.  0.  0. -1.  2. -1.  0.  0.]\n",
      " [ 0.  0.  0.  0.  0.  0.  0.  0.  0.  0. -1.  2. -1.  0.]\n",
      " [ 0.  0.  0.  0.  0.  0.  0.  0.  0.  0.  0. -1.  2. -1.]\n",
      " [-1.  0.  0.  0.  0.  0.  0.  0.  0.  0.  0.  0. -1.  2.]])\n"
     ]
    }
   ],
   "source": [
    "# Compute Laplacian matrix\n",
    "L = D-A\n",
    "print(f\"L=array({np.round(L,1)})\")"
   ]
  },
  {
   "cell_type": "code",
   "execution_count": 52,
   "id": "8957a41f",
   "metadata": {},
   "outputs": [],
   "source": [
    "# Compute eigenpairs\n",
    "eigenvals, eigenvectors = np.linalg.eigh(L)\n",
    "\n",
    "# sort by eigenvalues\n",
    "i = eigenvals.argsort()[::-1]\n",
    "eigenvals = eigenvals[i]\n",
    "eigenvectors = eigenvectors[i]"
   ]
  },
  {
   "cell_type": "code",
   "execution_count": 54,
   "id": "90caa10f",
   "metadata": {
    "scrolled": false
   },
   "outputs": [
    {
     "data": {
      "image/png": "[encoded data removed]",
      "text/plain": [
       "<Figure size 720x720 with 1 Axes>"
      ]
     },
     "metadata": {
      "needs_background": "light"
     },
     "output_type": "display_data"
    }
   ],
   "source": [
    "# Plotting\n",
    "import matplotlib.pyplot as plt\n",
    "\n",
    "def plot(x,y,A):\n",
    "    # Remove axis and set figuresize\n",
    "    plt.subplots(figsize=(10, 10))\n",
    "    plt.axis('off')\n",
    "    \n",
    "    # Plot edges\n",
    "    for i, b in enumerate(A):\n",
    "        for j, a in enumerate(b):\n",
    "            if a > 0:\n",
    "                x_s = [x[i],x[j]]\n",
    "                y_s = [y[i],y[j]]\n",
    "                plt.plot(x_s,y_s,color=\"tab:gray\")\n",
    "                \n",
    "    # Plot points\n",
    "    plt.scatter(x,y,marker=\"o\",s=150,zorder=10,color=\"tab:green\")\n",
    "                    \n",
    "# Plot the coordinates for each point        \n",
    "plot(eigenvectors[:,1],eigenvectors[:,2],A)"
   ]
  }
 ],
 "metadata": {
  "kernelspec": {
   "display_name": "Python 3",
   "language": "python",
   "name": "python3"
  },
  "language_info": {
   "codemirror_mode": {
    "name": "ipython",
    "version": 3
   },
   "file_extension": ".py",
   "mimetype": "text/x-python",
   "name": "python",
   "nbconvert_exporter": "python",
   "pygments_lexer": "ipython3",
   "version": "3.9.5"
  }
 },
 "nbformat": 4,
 "nbformat_minor": 5
}
